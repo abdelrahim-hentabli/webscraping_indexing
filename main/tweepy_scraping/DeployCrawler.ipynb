{
 "cells": [
  {
   "cell_type": "code",
   "execution_count": 1,
   "id": "conditional-official",
   "metadata": {},
   "outputs": [],
   "source": [
    "import csv\n",
    "import os\n",
    "import threading\n",
    "import requests\n",
    "import tweepy\n",
    "from dotenv import load_dotenv\n",
    "import webbrowser"
   ]
  },
  {
   "cell_type": "code",
   "execution_count": 2,
   "id": "confirmed-julian",
   "metadata": {},
   "outputs": [
    {
     "data": {
      "text/plain": [
       "True"
      ]
     },
     "execution_count": 2,
     "metadata": {},
     "output_type": "execute_result"
    }
   ],
   "source": [
    "MAX_SIZE = 265000000   # size of output file: 265MB\n",
    "CONSUMER_KEY = \"9CZOMsHKv1YKmaatoaFVs67l1\"   # provided key from twitter for developer app\n",
    "CONSUMER_SECRET = \"inUbtMG0n4pVMZEllzwneC5cxZTAQwTq28Kf0hwsXfzmKHMuub\"   # provided key from twitter for developer app\n",
    "auth = tweepy.OAuthHandler(CONSUMER_KEY, CONSUMER_SECRET)\n",
    "redirect_url = auth.get_authorization_url()\n",
    "webbrowser.open(redirect_url)   # authorize app access to twitter account"
   ]
  },
  {
   "cell_type": "code",
   "execution_count": 3,
   "id": "charming-personal",
   "metadata": {},
   "outputs": [
    {
     "name": "stdout",
     "output_type": "stream",
     "text": [
      "Enter pin for twitter account access: 9228194\n"
     ]
    }
   ],
   "source": [
    "pin = input(\"Enter pin for twitter account access: \")\n",
    "auth.get_access_token(pin)   # get access tokens for developer account\n",
    "ACCESS_TOKEN = auth.access_token\n",
    "ACCESS_SECRET = auth.access_token_secret\n",
    "auth.set_access_token(ACCESS_TOKEN, ACCESS_SECRET)"
   ]
  },
  {
   "cell_type": "code",
   "execution_count": 4,
   "id": "official-helena",
   "metadata": {},
   "outputs": [],
   "source": [
    "def download(link, filelocation):\n",
    "    try:\n",
    "        r = requests.get(link, stream=True)\n",
    "        if not os.path.exists(os.path.dirname(filelocation)):\n",
    "            try:\n",
    "                os.makedirs(os.path.dirname(filelocation))\n",
    "            except OSError as exc: # Guard against race condition\n",
    "                pass\n",
    "        with open(filelocation, 'wb') as f:\n",
    "            for chunk in r.iter_content(1024):\n",
    "                if chunk:\n",
    "                    f.write(chunk)\n",
    "    except Exception as e:\n",
    "        print(e)"
   ]
  },
  {
   "cell_type": "code",
   "execution_count": 5,
   "id": "strategic-somewhere",
   "metadata": {},
   "outputs": [],
   "source": [
    "class CustomStreamListener(tweepy.StreamListener):\n",
    "    def on_status(self, status):\n",
    "        urls = [link['expanded_url'] for link in status.entities['urls']]\n",
    "        for url in urls:\n",
    "            filename = url\n",
    "            filename = filename.replace('https://', '')\n",
    "            filename = filename.replace('http://', '')\n",
    "            filename = filename.replace('/', '_')\n",
    "            filelocation = os.path.join('downloads', str(status.id), filename)\n",
    "            download_thread = threading.Thread(target=download, args=(url, filelocation))\n",
    "            download_thread.start()\n",
    "        with open('output.csv', 'a', encoding=\"utf-8\") as f:\n",
    "            writer = csv.writer(f)\n",
    "            writer.writerow([\n",
    "                status.id,\n",
    "                status.author.screen_name,\n",
    "                status.created_at,\n",
    "                status.text,\n",
    "                status.place,\n",
    "                ['#{}'.format(hashtag['text']) for hashtag in status.entities['hashtags']],\n",
    "                urls\n",
    "            ])\n",
    "            if f.tell() > MAX_SIZE:\n",
    "                return False\n",
    "\n",
    "    def on_error(self, status_code):\n",
    "        print('error {}'.format(status_code))"
   ]
  },
  {
   "cell_type": "code",
   "execution_count": 6,
   "id": "south-candle",
   "metadata": {},
   "outputs": [
    {
     "name": "stdout",
     "output_type": "stream",
     "text": [
      "[Errno 22] Invalid argument: 'downloads\\\\1361516172584361993\\\\www.knopnews2.com_2021_02_15_biden-faces-pressure-as-us-sets-new-course-on-immigration_?utm_campaign=snd-autopilot&utm_source=twitter&utm_medium=social&utm_campaign=snd&utm_content=knop'\n",
      "[Errno 22] Invalid argument: 'downloads\\\\1361516111708102660\\\\www.washingtonpost.com_business_2021_02_15_biden-stimulus-state-local-aid_?tid=ss_tw'\n",
      "[Errno 22] Invalid argument: 'downloads\\\\1361516205064941574\\\\twitter.com_atrupar_status_1133757374966239233?s=19'\n"
     ]
    }
   ],
   "source": [
    "streamingAPI = tweepy.streaming.Stream(auth, CustomStreamListener())\n",
    "streamingAPI.filter(track=['Biden', 'President', 'Kamala Harris' 'United States'], is_async=True)"
   ]
  },
  {
   "cell_type": "code",
   "execution_count": null,
   "id": "individual-injection",
   "metadata": {},
   "outputs": [],
   "source": []
  }
 ],
 "metadata": {
  "kernelspec": {
   "display_name": "Python 3",
   "language": "python",
   "name": "python3"
  },
  "language_info": {
   "codemirror_mode": {
    "name": "ipython",
    "version": 3
   },
   "file_extension": ".py",
   "mimetype": "text/x-python",
   "name": "python",
   "nbconvert_exporter": "python",
   "pygments_lexer": "ipython3",
   "version": "3.9.1"
  }
 },
 "nbformat": 4,
 "nbformat_minor": 5
}
